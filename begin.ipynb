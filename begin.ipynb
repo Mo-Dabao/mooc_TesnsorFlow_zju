{
 "cells": [
  {
   "cell_type": "code",
   "execution_count": 1,
   "metadata": {},
   "outputs": [
    {
     "data": {
      "text/plain": [
       "'2.0.0'"
      ]
     },
     "execution_count": 1,
     "metadata": {},
     "output_type": "execute_result"
    }
   ],
   "source": [
    "import tensorflow as tf\n",
    "tf.__version__"
   ]
  },
  {
   "cell_type": "code",
   "execution_count": 2,
   "metadata": {},
   "outputs": [
    {
     "name": "stdout",
     "output_type": "stream",
     "text": [
      "7.0\n"
     ]
    }
   ],
   "source": [
    "# tf.enable_eager_execution()  # 在TensorFlow1.X版本中启用Eager Execution模式\n",
    "tf.compat.v1.disable_eager_execution()  # 在TensorFlow2.X版本关闭Eager Execution\n",
    "node1=tf.constant(3.0,tf.float32,name=\"node1\")\n",
    "node2=tf.constant(4.0,tf.float32,name=\"node2\")\n",
    "node3=tf.add(node1,node2)\n",
    "sess=tf.compat.v1.Session()\n",
    "with sess.as_default():\n",
    "    print(node3.eval())"
   ]
  }
 ],
 "metadata": {
  "kernelspec": {
   "display_name": "Python [conda env:tf2]",
   "language": "python",
   "name": "conda-env-tf2-py"
  },
  "language_info": {
   "codemirror_mode": {
    "name": "ipython",
    "version": 3
   },
   "file_extension": ".py",
   "mimetype": "text/x-python",
   "name": "python",
   "nbconvert_exporter": "python",
   "pygments_lexer": "ipython3",
   "version": "3.7.4"
  }
 },
 "nbformat": 4,
 "nbformat_minor": 4
}
