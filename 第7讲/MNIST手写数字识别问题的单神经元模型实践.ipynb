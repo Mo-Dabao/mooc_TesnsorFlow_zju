{
 "cells": [
  {
   "cell_type": "markdown",
   "metadata": {},
   "source": [
    "# MNIST手写数字识别问题的单神经元模型实践\n",
    "\n",
    "按课程案例，动手完成编码实践。\n",
    "\n",
    "在不改变模型的结构基础上，尝试采用不同的学习率、单批次样本数、训练轮数等超参数，让模型的准确率达到90%。\n",
    "\n",
    "\n",
    "\n",
    "提交要求：\n",
    "\n",
    "1. 你认为最优的一次带运行结果的源代码文件（.ipynb 格式）\n",
    "2. 作为附件上传\n",
    "\n",
    "\n",
    "\n",
    "评分标准：\n",
    "1. 完成案例中的代码，有完整的代码，模型能运行，准确率达87%以上；得6分；\n",
    "2. 准确率达89%以上；再得2分，否则得0分；\n",
    "3. 准确率达90%以上；再得2分，否则得0分；"
   ]
  },
  {
   "cell_type": "markdown",
   "metadata": {},
   "source": [
    "# tensorflow2.0实现"
   ]
  },
  {
   "cell_type": "code",
   "execution_count": 1,
   "metadata": {},
   "outputs": [
    {
     "name": "stdout",
     "output_type": "stream",
     "text": [
      "tensorflow 的版本为 2.0.0\n"
     ]
    }
   ],
   "source": [
    "from os.path import join, abspath, dirname\n",
    "\n",
    "import numpy as np\n",
    "import matplotlib.pyplot as plt\n",
    "import tensorflow as tf\n",
    "print(f'tensorflow 的版本为 {tf.__version__}')"
   ]
  },
  {
   "cell_type": "code",
   "execution_count": 2,
   "metadata": {},
   "outputs": [],
   "source": [
    "# 下载、导入数据集\n",
    "data_path = join(abspath(dirname('.')), 'mnist.npz')\n",
    "(train_images, train_labels), (test_images, test_labels) = tf.keras.datasets.mnist.load_data(data_path)\n",
    "# 数据标准化\n",
    "train_images = train_images / 255.0\n",
    "test_images = test_images / 255.0\n",
    "# 标签值 One-Hot 编码\n",
    "train_labels_ohe = tf.one_hot(train_labels, depth=10).numpy()\n",
    "test_labels_ohe = tf.one_hot(test_labels, depth=10).numpy()"
   ]
  },
  {
   "cell_type": "code",
   "execution_count": 3,
   "metadata": {},
   "outputs": [],
   "source": [
    "# 设置训练参数\n",
    "train_epochs = 10  # 训练轮数\n",
    "batch_size = 50  # 单次训练样本数（批次大小）\n",
    "learning_rate = 0.001"
   ]
  },
  {
   "cell_type": "code",
   "execution_count": 4,
   "metadata": {},
   "outputs": [],
   "source": [
    "# 建立模型\n",
    "model = tf.keras.models.Sequential([\n",
    "        tf.keras.layers.Flatten(),\n",
    "        tf.keras.layers.Dense(256, activation='relu'),\n",
    "        tf.keras.layers.Dense(10, activation='softmax')       \n",
    "        ])\n",
    "# 优化器\n",
    "optimizer = tf.keras.optimizers.Adam(learning_rate=learning_rate)\n",
    "# 定义训练模式\n",
    "model.compile(optimizer=optimizer,\n",
    "              loss='categorical_crossentropy',\n",
    "              metrics=['accuracy'])"
   ]
  },
  {
   "cell_type": "code",
   "execution_count": 5,
   "metadata": {},
   "outputs": [
    {
     "name": "stdout",
     "output_type": "stream",
     "text": [
      "Train on 48000 samples, validate on 12000 samples\n",
      "Epoch 1/10\n",
      "48000/48000 - 6s - loss: 0.2670 - accuracy: 0.9246 - val_loss: 0.1432 - val_accuracy: 0.9583\n",
      "Epoch 2/10\n",
      "48000/48000 - 4s - loss: 0.1133 - accuracy: 0.9663 - val_loss: 0.1060 - val_accuracy: 0.9690\n",
      "Epoch 3/10\n",
      "48000/48000 - 4s - loss: 0.0754 - accuracy: 0.9778 - val_loss: 0.0942 - val_accuracy: 0.9709\n",
      "Epoch 4/10\n",
      "48000/48000 - 4s - loss: 0.0546 - accuracy: 0.9835 - val_loss: 0.0861 - val_accuracy: 0.9739\n",
      "Epoch 5/10\n",
      "48000/48000 - 4s - loss: 0.0393 - accuracy: 0.9883 - val_loss: 0.0827 - val_accuracy: 0.9762\n",
      "Epoch 6/10\n",
      "48000/48000 - 4s - loss: 0.0302 - accuracy: 0.9914 - val_loss: 0.0786 - val_accuracy: 0.9772\n",
      "Epoch 7/10\n",
      "48000/48000 - 4s - loss: 0.0229 - accuracy: 0.9935 - val_loss: 0.0834 - val_accuracy: 0.9762\n",
      "Epoch 8/10\n",
      "48000/48000 - 4s - loss: 0.0162 - accuracy: 0.9956 - val_loss: 0.0953 - val_accuracy: 0.9749\n",
      "Epoch 9/10\n",
      "48000/48000 - 4s - loss: 0.0142 - accuracy: 0.9958 - val_loss: 0.0916 - val_accuracy: 0.9748\n",
      "Epoch 10/10\n",
      "48000/48000 - 4s - loss: 0.0115 - accuracy: 0.9967 - val_loss: 0.0836 - val_accuracy: 0.9783\n"
     ]
    }
   ],
   "source": [
    "# 训练模型\n",
    "train_history = model.fit(train_images, train_labels_ohe,\n",
    "                          batch_size=batch_size,\n",
    "                          epochs=train_epochs,\n",
    "                          verbose=2,  # 每epoch一行反馈。默认为1进度条\n",
    "                          validation_split=0.2)  # 每epoch用作计算loss和metrics的比例"
   ]
  },
  {
   "cell_type": "code",
   "execution_count": 6,
   "metadata": {},
   "outputs": [
    {
     "name": "stdout",
     "output_type": "stream",
     "text": [
      "Test accuracy: 0.9803\n"
     ]
    }
   ],
   "source": [
    "# 评估模型\n",
    "test_loss, test_acc = model.evaluate(test_images, test_labels_ohe,\n",
    "                                     verbose=0)  # 无反馈\n",
    "print('Test accuracy:', test_acc)"
   ]
  },
  {
   "cell_type": "code",
   "execution_count": 7,
   "metadata": {},
   "outputs": [],
   "source": [
    "# 预测\n",
    "predictions = model.predict(test_images)"
   ]
  },
  {
   "cell_type": "code",
   "execution_count": 8,
   "metadata": {},
   "outputs": [],
   "source": [
    "# 定义可视化函数\n",
    "def plot_images_labels_prediction(images,      # 图像列表\n",
    "                                  labels,      # 标签列表\n",
    "                                  prediction,  # 预测值列表\n",
    "                                  index,       # 从第index个开始显示\n",
    "                                  num=5):      # 缺省一次显示5幅\n",
    "    fig = plt.gcf() # 获取当前图表，Get Current Figure\n",
    "    fig.set_size_inches(10, 12)  # 1英寸等于 2.54 cm\n",
    "    if num > 10: \n",
    "        num = 10            # 最多显示10个子图\n",
    "    for i in range(0, num):\n",
    "        ax = plt.subplot(5, 5, i+1)  # 获取当前要处理的子图\n",
    "        ax.imshow(images[index],  # 显示第index个图像\n",
    "                  cmap='binary')\n",
    "        title = f'label={labels[index]}'  # 构建该图上要显示的title信息\n",
    "        if len(prediction) > 0:\n",
    "            title = f'{title},predict={np.argmax(predictions[index])}'\n",
    "        ax.set_title(title, fontsize=10)   # 显示图上的title信息\n",
    "        ax.set_xticks([])  # 不显示坐标轴\n",
    "        ax.set_yticks([])        \n",
    "        index += 1 \n",
    "    plt.show()"
   ]
  },
  {
   "cell_type": "code",
   "execution_count": 9,
   "metadata": {},
   "outputs": [
    {
     "data": {
      "image/png": "[encoded data removed]",
      "text/plain": [
       "<Figure size 720x864 with 10 Axes>"
      ]
     },
     "metadata": {},
     "output_type": "display_data"
    }
   ],
   "source": [
    "# 可视化预测结果\n",
    "plot_images_labels_prediction(test_images,\n",
    "                              test_labels,\n",
    "                              predictions, 0, 10)"
   ]
  },
  {
   "cell_type": "code",
   "execution_count": 10,
   "metadata": {},
   "outputs": [
    {
     "data": {
      "text/plain": [
       "array([5, 0, 4, ..., 5, 6, 8], dtype=uint8)"
      ]
     },
     "execution_count": 10,
     "metadata": {},
     "output_type": "execute_result"
    }
   ],
   "source": [
    "train_labels"
   ]
  }
 ],
 "metadata": {
  "kernelspec": {
   "display_name": "Python [conda env:tf2]",
   "language": "python",
   "name": "conda-env-tf2-py"
  },
  "language_info": {
   "codemirror_mode": {
    "name": "ipython",
    "version": 3
   },
   "file_extension": ".py",
   "mimetype": "text/x-python",
   "name": "python",
   "nbconvert_exporter": "python",
   "pygments_lexer": "ipython3",
   "version": "3.7.4"
  }
 },
 "nbformat": 4,
 "nbformat_minor": 4
}
