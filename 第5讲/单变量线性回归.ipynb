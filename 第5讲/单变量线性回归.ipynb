{
 "cells": [
  {
   "cell_type": "markdown",
   "metadata": {},
   "source": [
    "# 通过生成人工数据集合，基于TensorFlow实现`y=3.1234*x+2.98`线性回归\n",
    "\n",
    "通过生成人工数据集合，基于TensorFlow实现`y=3.1234*x+2.98`线性回归\n",
    "\n",
    "通过上传附件方式提交 notebook文件（.ipynb）\n",
    "\n",
    "评分标准：\n",
    "\n",
    "1. 生成`x_data`，值为`[0, 100]`之间500个等差数列数据集合作为样本特征，根据目标线性方程`y=3.1234*x+2.98`，生成相应的标签集合`y_data`，1分；\n",
    "2. 画出随机生成数据的散点图和想要通过学习得到的目标线性函数`y=3.1234*x+2.98`，1分；\n",
    "3. 构建回归模型，3分；\n",
    "4. 训练模型，10轮，每训练20个样本显示损失值，2分；\n",
    "5. 通过训练出的模型预测`x=5.79` 时`y`的值，并显示根据目标方程显示的 y 值，1分；\n",
    "6. 通过Tensorboard显示构建的计算图。\n",
    "\n",
    "上传的源代码中有相应的源代码\n",
    "\n",
    "结果计算图截图可以嵌入上交的notebook文件（.ipynb）\n",
    "\n",
    "嵌入图片的方法为markdown cell中代码`<img src= \"你的计算图文件名.png\">`，2分。\n",
    "\n",
    "备注：如果不是上传notebook文件（.ipynb），可以用以下方案替代：\n",
    "\n",
    "1. 源代码 .py 文件\n",
    "2. 写一个说明文档，贴上散点图和计算图的图形，格式可以是word或者pdf\n",
    "3. 以上两个文件通过压缩文件打包为一个zip或者rar文件\n",
    "\n",
    "强烈建议提交 notebook文件（.ipynb）（打包为压缩文件后上传）"
   ]
  },
  {
   "cell_type": "code",
   "execution_count": 8,
   "metadata": {},
   "outputs": [
    {
     "data": {
      "text/plain": [
       "'2.0.0-beta1'"
      ]
     },
     "execution_count": 8,
     "metadata": {},
     "output_type": "execute_result"
    }
   ],
   "source": [
    "import numpy as np\n",
    "import matplotlib.pyplot as plt\n",
    "import tensorflow.compat.v1 as tf\n",
    "\n",
    "# tf.enable_eager_execution()  # 在TensorFlow1.X版本中启用Eager Execution模式\n",
    "tf.disable_eager_execution()  # 在TensorFlow2.X版本关闭Eager Execution\n",
    "tf.__version__"
   ]
  },
  {
   "cell_type": "markdown",
   "metadata": {},
   "source": [
    "1、生成`x_data`，值为`[0, 100]`之间500个等差数列数据集合作为样本特征，根据目标线性方程`y=3.1234*x+2.98`，生成相应的标签集合`y_data`，1分；"
   ]
  },
  {
   "cell_type": "code",
   "execution_count": 9,
   "metadata": {},
   "outputs": [],
   "source": [
    "x_data = np.linspace(0, 100, 500)\n",
    "y_data = 3.1234 * x_data + 2.98 + np.random.randn(500) * 0.5"
   ]
  },
  {
   "cell_type": "markdown",
   "metadata": {},
   "source": [
    "2、画出随机生成数据的散点图和想要通过学习得到的目标线性函数`y=3.1234*x+2.98`，1分；"
   ]
  },
  {
   "cell_type": "code",
   "execution_count": 10,
   "metadata": {},
   "outputs": [
    {
     "data": {
      "text/plain": [
       "<matplotlib.legend.Legend at 0x219ab286f88>"
      ]
     },
     "execution_count": 10,
     "metadata": {},
     "output_type": "execute_result"
    },
    {
     "data": {
      "image/png": "[encoded data removed]",
      "text/plain": [
       "<Figure size 720x360 with 1 Axes>"
      ]
     },
     "metadata": {
      "needs_background": "light"
     },
     "output_type": "display_data"
    }
   ],
   "source": [
    "plt.figure(figsize=[10, 5])\n",
    "plt.plot(x_data, y_data, 'r.', markersize=3)\n",
    "plt.plot(x_data, 3.1234 * x_data + 2.98, 'b-')\n",
    "plt.legend(['y_data', 'y=3.1234*x+2.98'])"
   ]
  },
  {
   "cell_type": "markdown",
   "metadata": {},
   "source": [
    "3、构建回归模型，3分；"
   ]
  },
  {
   "cell_type": "code",
   "execution_count": 11,
   "metadata": {},
   "outputs": [],
   "source": [
    "x = tf.placeholder('float', name='x')\n",
    "y = tf.placeholder('float', name='y')\n",
    "w = tf.Variable(1.0, name='w0')\n",
    "b = tf.Variable(1.0, name='b0')\n",
    "def model(x, w, b):\n",
    "    return x * w + b\n",
    "pred = model(x, w, b)"
   ]
  },
  {
   "cell_type": "markdown",
   "metadata": {},
   "source": [
    "4、训练模型，10轮，每训练20个样本显示损失值，2分；"
   ]
  },
  {
   "cell_type": "code",
   "execution_count": 12,
   "metadata": {},
   "outputs": [
    {
     "name": "stdout",
     "output_type": "stream",
     "text": [
      "Train Epoch: 01, Step: 020, loss=105.663825989\n",
      "Train Epoch: 01, Step: 040, loss=255.772567749\n",
      "Train Epoch: 01, Step: 060, loss=270.711853027\n",
      "Train Epoch: 01, Step: 080, loss=82.284751892\n",
      "Train Epoch: 01, Step: 100, loss=7.499395847\n",
      "Train Epoch: 01, Step: 120, loss=0.163116843\n",
      "Train Epoch: 01, Step: 140, loss=0.292343050\n",
      "Train Epoch: 01, Step: 160, loss=0.100833572\n",
      "Train Epoch: 01, Step: 180, loss=0.502009988\n",
      "Train Epoch: 01, Step: 200, loss=0.248971090\n",
      "Train Epoch: 01, Step: 220, loss=0.011301387\n",
      "Train Epoch: 01, Step: 240, loss=0.230454490\n",
      "Train Epoch: 01, Step: 260, loss=0.301279306\n",
      "Train Epoch: 01, Step: 280, loss=0.014541999\n",
      "Train Epoch: 01, Step: 300, loss=0.555108666\n",
      "Train Epoch: 01, Step: 320, loss=0.403857768\n",
      "Train Epoch: 01, Step: 340, loss=0.515856087\n",
      "Train Epoch: 01, Step: 360, loss=0.165982634\n",
      "Train Epoch: 01, Step: 380, loss=0.000445333\n",
      "Train Epoch: 01, Step: 400, loss=5.505974770\n",
      "Train Epoch: 01, Step: 420, loss=1.669874668\n",
      "Train Epoch: 01, Step: 440, loss=0.193897679\n",
      "Train Epoch: 01, Step: 460, loss=0.081871986\n",
      "Train Epoch: 01, Step: 480, loss=9.290143013\n",
      "Train Epoch: 01, Step: 500, loss=8.938034058\n",
      "Train Epoch: 02, Step: 520, loss=3.798591137\n",
      "Train Epoch: 02, Step: 540, loss=1.712821960\n",
      "Train Epoch: 02, Step: 560, loss=2.195279360\n",
      "Train Epoch: 02, Step: 580, loss=0.013987097\n",
      "Train Epoch: 02, Step: 600, loss=0.132872805\n",
      "Train Epoch: 02, Step: 620, loss=0.825428903\n",
      "Train Epoch: 02, Step: 640, loss=0.257509470\n",
      "Train Epoch: 02, Step: 660, loss=0.100591458\n",
      "Train Epoch: 02, Step: 680, loss=0.501653254\n",
      "Train Epoch: 02, Step: 700, loss=0.248788401\n",
      "Train Epoch: 02, Step: 720, loss=0.011330605\n",
      "Train Epoch: 02, Step: 740, loss=0.230542406\n",
      "Train Epoch: 02, Step: 760, loss=0.301178813\n",
      "Train Epoch: 02, Step: 780, loss=0.014527282\n",
      "Train Epoch: 02, Step: 800, loss=0.555199623\n",
      "Train Epoch: 02, Step: 820, loss=0.403915942\n",
      "Train Epoch: 02, Step: 840, loss=0.515877962\n",
      "Train Epoch: 02, Step: 860, loss=0.166007504\n",
      "Train Epoch: 02, Step: 880, loss=0.000447267\n",
      "Train Epoch: 02, Step: 900, loss=5.506117821\n",
      "Train Epoch: 02, Step: 920, loss=1.669716954\n",
      "Train Epoch: 02, Step: 940, loss=0.193897679\n",
      "Train Epoch: 02, Step: 960, loss=0.081871986\n",
      "Train Epoch: 02, Step: 980, loss=9.290143013\n",
      "Train Epoch: 02, Step: 1000, loss=8.937851906\n",
      "Train Epoch: 03, Step: 1020, loss=3.759340525\n",
      "Train Epoch: 03, Step: 1040, loss=1.692657113\n",
      "Train Epoch: 03, Step: 1060, loss=2.184790373\n",
      "Train Epoch: 03, Step: 1080, loss=0.013939316\n",
      "Train Epoch: 03, Step: 1100, loss=0.131790400\n",
      "Train Epoch: 03, Step: 1120, loss=0.823406160\n",
      "Train Epoch: 03, Step: 1140, loss=0.258144796\n",
      "Train Epoch: 03, Step: 1160, loss=0.100833572\n",
      "Train Epoch: 03, Step: 1180, loss=0.501296699\n",
      "Train Epoch: 03, Step: 1200, loss=0.248613372\n",
      "Train Epoch: 03, Step: 1220, loss=0.011359859\n",
      "Train Epoch: 03, Step: 1240, loss=0.230630338\n",
      "Train Epoch: 03, Step: 1260, loss=0.301095068\n",
      "Train Epoch: 03, Step: 1280, loss=0.014512572\n",
      "Train Epoch: 03, Step: 1300, loss=0.555245101\n",
      "Train Epoch: 03, Step: 1320, loss=0.403954744\n",
      "Train Epoch: 03, Step: 1340, loss=0.515965641\n",
      "Train Epoch: 03, Step: 1360, loss=0.166019946\n",
      "Train Epoch: 03, Step: 1380, loss=0.000447267\n",
      "Train Epoch: 03, Step: 1400, loss=5.506332874\n",
      "Train Epoch: 03, Step: 1420, loss=1.669874668\n",
      "Train Epoch: 03, Step: 1440, loss=0.193897679\n",
      "Train Epoch: 03, Step: 1460, loss=0.081837058\n",
      "Train Epoch: 03, Step: 1480, loss=9.290143013\n",
      "Train Epoch: 03, Step: 1500, loss=8.938399315\n",
      "Train Epoch: 04, Step: 1520, loss=3.720595360\n",
      "Train Epoch: 04, Step: 1540, loss=1.672754765\n",
      "Train Epoch: 04, Step: 1560, loss=2.174371481\n",
      "Train Epoch: 04, Step: 1580, loss=0.013891617\n",
      "Train Epoch: 04, Step: 1600, loss=0.130723476\n",
      "Train Epoch: 04, Step: 1620, loss=0.821385860\n",
      "Train Epoch: 04, Step: 1640, loss=0.258780926\n",
      "Train Epoch: 04, Step: 1660, loss=0.101071134\n",
      "Train Epoch: 04, Step: 1680, loss=0.500940204\n",
      "Train Epoch: 04, Step: 1700, loss=0.248438418\n",
      "Train Epoch: 04, Step: 1720, loss=0.011389152\n",
      "Train Epoch: 04, Step: 1740, loss=0.230747595\n",
      "Train Epoch: 04, Step: 1760, loss=0.301011354\n",
      "Train Epoch: 04, Step: 1780, loss=0.014494197\n",
      "Train Epoch: 04, Step: 1800, loss=0.555358827\n",
      "Train Epoch: 04, Step: 1820, loss=0.404012918\n",
      "Train Epoch: 04, Step: 1840, loss=0.516009510\n",
      "Train Epoch: 04, Step: 1860, loss=0.166044816\n",
      "Train Epoch: 04, Step: 1880, loss=0.000448558\n",
      "Train Epoch: 04, Step: 1900, loss=5.506332874\n",
      "Train Epoch: 04, Step: 1920, loss=1.669953585\n",
      "Train Epoch: 04, Step: 1940, loss=0.193924546\n",
      "Train Epoch: 04, Step: 1960, loss=0.081837058\n",
      "Train Epoch: 04, Step: 1980, loss=9.290514946\n",
      "Train Epoch: 04, Step: 2000, loss=8.937669754\n",
      "Train Epoch: 05, Step: 2020, loss=3.682384014\n",
      "Train Epoch: 05, Step: 2040, loss=1.653166294\n",
      "Train Epoch: 05, Step: 2060, loss=2.164134741\n",
      "Train Epoch: 05, Step: 2080, loss=0.013843101\n",
      "Train Epoch: 05, Step: 2100, loss=0.129666373\n",
      "Train Epoch: 05, Step: 2120, loss=0.819395661\n",
      "Train Epoch: 05, Step: 2140, loss=0.259417802\n",
      "Train Epoch: 05, Step: 2160, loss=0.101318687\n",
      "Train Epoch: 05, Step: 2180, loss=0.500573099\n",
      "Train Epoch: 05, Step: 2200, loss=0.248255923\n",
      "Train Epoch: 05, Step: 2220, loss=0.011415222\n",
      "Train Epoch: 05, Step: 2240, loss=0.230850220\n",
      "Train Epoch: 05, Step: 2260, loss=0.300927639\n",
      "Train Epoch: 05, Step: 2280, loss=0.014483176\n",
      "Train Epoch: 05, Step: 2300, loss=0.555427015\n",
      "Train Epoch: 05, Step: 2320, loss=0.404071122\n",
      "Train Epoch: 05, Step: 2340, loss=0.516053319\n",
      "Train Epoch: 05, Step: 2360, loss=0.166069686\n",
      "Train Epoch: 05, Step: 2380, loss=0.000449852\n",
      "Train Epoch: 05, Step: 2400, loss=5.506547451\n",
      "Train Epoch: 05, Step: 2420, loss=1.670032501\n",
      "Train Epoch: 05, Step: 2440, loss=0.193951428\n",
      "Train Epoch: 05, Step: 2460, loss=0.081854522\n",
      "Train Epoch: 05, Step: 2480, loss=9.290328979\n",
      "Train Epoch: 05, Step: 2500, loss=8.938034058\n",
      "Train Epoch: 06, Step: 2520, loss=3.644632101\n",
      "Train Epoch: 06, Step: 2540, loss=1.633780956\n",
      "Train Epoch: 06, Step: 2560, loss=2.153910875\n",
      "Train Epoch: 06, Step: 2580, loss=0.013794670\n",
      "Train Epoch: 06, Step: 2600, loss=0.128629968\n",
      "Train Epoch: 06, Step: 2620, loss=0.817421734\n",
      "Train Epoch: 06, Step: 2640, loss=0.260055482\n",
      "Train Epoch: 06, Step: 2660, loss=0.101556823\n",
      "Train Epoch: 06, Step: 2680, loss=0.500227690\n",
      "Train Epoch: 06, Step: 2700, loss=0.248081088\n",
      "Train Epoch: 06, Step: 2720, loss=0.011444585\n",
      "Train Epoch: 06, Step: 2740, loss=0.230938211\n",
      "Train Epoch: 06, Step: 2760, loss=0.300843954\n",
      "Train Epoch: 06, Step: 2780, loss=0.014464819\n",
      "Train Epoch: 06, Step: 2800, loss=0.555495262\n",
      "Train Epoch: 06, Step: 2820, loss=0.404129326\n",
      "Train Epoch: 06, Step: 2840, loss=0.516119123\n",
      "Train Epoch: 06, Step: 2860, loss=0.166106999\n",
      "Train Epoch: 06, Step: 2880, loss=0.000451148\n",
      "Train Epoch: 06, Step: 2900, loss=5.506547451\n",
      "Train Epoch: 06, Step: 2920, loss=1.670111299\n",
      "Train Epoch: 06, Step: 2940, loss=0.193924546\n",
      "Train Epoch: 06, Step: 2960, loss=0.081854522\n",
      "Train Epoch: 06, Step: 2980, loss=9.290143013\n",
      "Train Epoch: 06, Step: 3000, loss=8.938764572\n",
      "Train Epoch: 07, Step: 3020, loss=3.607378960\n",
      "Train Epoch: 07, Step: 3040, loss=1.614684463\n",
      "Train Epoch: 07, Step: 3060, loss=2.143823147\n",
      "Train Epoch: 07, Step: 3080, loss=0.013750797\n",
      "Train Epoch: 07, Step: 3100, loss=0.127592281\n",
      "Train Epoch: 07, Step: 3120, loss=0.815450132\n",
      "Train Epoch: 07, Step: 3140, loss=0.260678381\n",
      "Train Epoch: 07, Step: 3160, loss=0.101790361\n",
      "Train Epoch: 07, Step: 3180, loss=0.499882400\n",
      "Train Epoch: 07, Step: 3200, loss=0.247921512\n",
      "Train Epoch: 07, Step: 3220, loss=0.011470718\n",
      "Train Epoch: 07, Step: 3240, loss=0.231026202\n",
      "Train Epoch: 07, Step: 3260, loss=0.300760269\n",
      "Train Epoch: 07, Step: 3280, loss=0.014450141\n",
      "Train Epoch: 07, Step: 3300, loss=0.555586278\n",
      "Train Epoch: 07, Step: 3320, loss=0.404168129\n",
      "Train Epoch: 07, Step: 3340, loss=0.516141057\n",
      "Train Epoch: 07, Step: 3360, loss=0.166131869\n",
      "Train Epoch: 07, Step: 3380, loss=0.000451796\n",
      "Train Epoch: 07, Step: 3400, loss=5.506762505\n",
      "Train Epoch: 07, Step: 3420, loss=1.670111299\n",
      "Train Epoch: 07, Step: 3440, loss=0.193978310\n",
      "Train Epoch: 07, Step: 3460, loss=0.081837058\n",
      "Train Epoch: 07, Step: 3480, loss=9.290887833\n",
      "Train Epoch: 07, Step: 3500, loss=8.938946724\n",
      "Train Epoch: 08, Step: 3520, loss=3.570634365\n",
      "Train Epoch: 08, Step: 3540, loss=1.595878601\n",
      "Train Epoch: 08, Step: 3560, loss=2.133870363\n",
      "Train Epoch: 08, Step: 3580, loss=0.013705208\n",
      "Train Epoch: 08, Step: 3600, loss=0.126575083\n",
      "Train Epoch: 08, Step: 3620, loss=0.813522220\n",
      "Train Epoch: 08, Step: 3640, loss=0.261301994\n",
      "Train Epoch: 08, Step: 3660, loss=0.102029048\n",
      "Train Epoch: 08, Step: 3680, loss=0.499537230\n",
      "Train Epoch: 08, Step: 3700, loss=0.247739211\n",
      "Train Epoch: 08, Step: 3720, loss=0.011500154\n",
      "Train Epoch: 08, Step: 3740, loss=0.231128901\n",
      "Train Epoch: 08, Step: 3760, loss=0.300676584\n",
      "Train Epoch: 08, Step: 3780, loss=0.014439138\n",
      "Train Epoch: 08, Step: 3800, loss=0.555631757\n",
      "Train Epoch: 08, Step: 3820, loss=0.404226333\n",
      "Train Epoch: 08, Step: 3840, loss=0.516206801\n",
      "Train Epoch: 08, Step: 3860, loss=0.166144311\n",
      "Train Epoch: 08, Step: 3880, loss=0.000453094\n",
      "Train Epoch: 08, Step: 3900, loss=5.506834030\n",
      "Train Epoch: 08, Step: 3920, loss=1.670190215\n",
      "Train Epoch: 08, Step: 3940, loss=0.194005191\n",
      "Train Epoch: 08, Step: 3960, loss=0.081784688\n",
      "Train Epoch: 08, Step: 3980, loss=9.291073799\n",
      "Train Epoch: 08, Step: 4000, loss=8.939128876\n",
      "Train Epoch: 09, Step: 4020, loss=3.534350157\n",
      "Train Epoch: 09, Step: 4040, loss=1.577302575\n",
      "Train Epoch: 09, Step: 4060, loss=2.124007463\n",
      "Train Epoch: 09, Step: 4080, loss=0.013655236\n",
      "Train Epoch: 09, Step: 4100, loss=0.125561953\n",
      "Train Epoch: 09, Step: 4120, loss=0.811610281\n",
      "Train Epoch: 09, Step: 4140, loss=0.261910737\n",
      "Train Epoch: 09, Step: 4160, loss=0.102253370\n",
      "Train Epoch: 09, Step: 4180, loss=0.499181420\n",
      "Train Epoch: 09, Step: 4200, loss=0.247564554\n",
      "Train Epoch: 09, Step: 4220, loss=0.011526350\n",
      "Train Epoch: 09, Step: 4240, loss=0.231216937\n",
      "Train Epoch: 09, Step: 4260, loss=0.300592929\n",
      "Train Epoch: 09, Step: 4280, loss=0.014420808\n",
      "Train Epoch: 09, Step: 4300, loss=0.555745482\n",
      "Train Epoch: 09, Step: 4320, loss=0.404265136\n",
      "Train Epoch: 09, Step: 4340, loss=0.516250670\n",
      "Train Epoch: 09, Step: 4360, loss=0.166169181\n",
      "Train Epoch: 09, Step: 4380, loss=0.000453744\n",
      "Train Epoch: 09, Step: 4400, loss=5.506834030\n",
      "Train Epoch: 09, Step: 4420, loss=1.670190215\n",
      "Train Epoch: 09, Step: 4440, loss=0.193978310\n",
      "Train Epoch: 09, Step: 4460, loss=0.081837058\n",
      "Train Epoch: 09, Step: 4480, loss=9.290700912\n",
      "Train Epoch: 09, Step: 4500, loss=8.938034058\n",
      "Train Epoch: 10, Step: 4520, loss=3.498572588\n",
      "Train Epoch: 10, Step: 4540, loss=1.559025764\n",
      "Train Epoch: 10, Step: 4560, loss=2.114256144\n",
      "Train Epoch: 10, Step: 4580, loss=0.013609806\n",
      "Train Epoch: 10, Step: 4600, loss=0.124558285\n",
      "Train Epoch: 10, Step: 4620, loss=0.809686899\n",
      "Train Epoch: 10, Step: 4640, loss=0.262520194\n",
      "Train Epoch: 10, Step: 4660, loss=0.102487713\n",
      "Train Epoch: 10, Step: 4680, loss=0.498858035\n",
      "Train Epoch: 10, Step: 4700, loss=0.247389972\n",
      "Train Epoch: 10, Step: 4720, loss=0.011552576\n",
      "Train Epoch: 10, Step: 4740, loss=0.231304988\n",
      "Train Epoch: 10, Step: 4760, loss=0.300509274\n",
      "Train Epoch: 10, Step: 4780, loss=0.014406153\n",
      "Train Epoch: 10, Step: 4800, loss=0.555791020\n",
      "Train Epoch: 10, Step: 4820, loss=0.404323339\n",
      "Train Epoch: 10, Step: 4840, loss=0.516294539\n",
      "Train Epoch: 10, Step: 4860, loss=0.166181624\n",
      "Train Epoch: 10, Step: 4880, loss=0.000455045\n",
      "Train Epoch: 10, Step: 4900, loss=5.506977081\n",
      "Train Epoch: 10, Step: 4920, loss=1.670348048\n",
      "Train Epoch: 10, Step: 4940, loss=0.194005191\n",
      "Train Epoch: 10, Step: 4960, loss=0.081819601\n",
      "Train Epoch: 10, Step: 4980, loss=9.291073799\n",
      "Train Epoch: 10, Step: 5000, loss=8.937304497\n"
     ]
    }
   ],
   "source": [
    "train_epochs = 10\n",
    "learning_rate = 0.0001\n",
    "display_step = 20\n",
    "loss_function = tf.reduce_mean(tf.square(y - pred))\n",
    "optimizer = tf.train.GradientDescentOptimizer(learning_rate).minimize(loss_function)\n",
    "sess = tf.Session()\n",
    "init = tf.global_variables_initializer()\n",
    "loss_list = []\n",
    "step = 0\n",
    "sess.run(init)\n",
    "for epoch in range(train_epochs):\n",
    "    for xs, ys in zip(x_data, y_data):\n",
    "        _, loss = sess.run([optimizer, loss_function], feed_dict={x: xs, y: ys})\n",
    "        loss_list.append(loss)\n",
    "        step += 1\n",
    "        if step % display_step == 0:\n",
    "            print(f'Train Epoch: {epoch+1:02d}, Step: {step:03d}, loss={loss:.9f}')"
   ]
  },
  {
   "cell_type": "markdown",
   "metadata": {},
   "source": [
    "5、通过训练出的模型预测`x=5.79` 时`y`的值，并显示根据目标方程显示的 y 值，1分；"
   ]
  },
  {
   "cell_type": "code",
   "execution_count": 13,
   "metadata": {},
   "outputs": [
    {
     "name": "stdout",
     "output_type": "stream",
     "text": [
      "当x=5.79时，目标值为21.064486000000002，模型预测值为19.676916122436523\n"
     ]
    }
   ],
   "source": [
    "x_test = 5.79\n",
    "y_hat = sess.run(model(x_test, w, b))\n",
    "y_target = 3.1234 * x_test + 2.98\n",
    "print(f'当x=5.79时，目标值为{y_target}，模型预测值为{y_hat}')"
   ]
  },
  {
   "cell_type": "markdown",
   "metadata": {},
   "source": [
    "6、通过Tensorboard显示构建的计算图。"
   ]
  },
  {
   "cell_type": "code",
   "execution_count": 14,
   "metadata": {},
   "outputs": [],
   "source": [
    "logdir = './'\n",
    "tf.summary.FileWriter(logdir, tf.get_default_graph()).close()"
   ]
  },
  {
   "cell_type": "markdown",
   "metadata": {},
   "source": [
    "**Tensorboard显示构建的计算图如下所示：**\n",
    "![tensorboard](tensorboard.png)"
   ]
  }
 ],
 "metadata": {
  "kernelspec": {
   "display_name": "Python [conda env:tf2]",
   "language": "python",
   "name": "conda-env-tf2-py"
  },
  "language_info": {
   "codemirror_mode": {
    "name": "ipython",
    "version": 3
   },
   "file_extension": ".py",
   "mimetype": "text/x-python",
   "name": "python",
   "nbconvert_exporter": "python",
   "pygments_lexer": "ipython3",
   "version": "3.7.4"
  }
 },
 "nbformat": 4,
 "nbformat_minor": 4
}
